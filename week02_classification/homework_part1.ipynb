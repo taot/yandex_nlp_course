{
 "cells": [
  {
   "cell_type": "code",
   "execution_count": 1,
   "metadata": {},
   "outputs": [],
   "source": [
    "import numpy as np\n",
    "import matplotlib.pyplot as plt\n",
    "%matplotlib inline"
   ]
  },
  {
   "cell_type": "markdown",
   "metadata": {},
   "source": [
    "### Homework part I: Prohibited Comment Classification (3 points)\n",
    "\n",
    "![img](https://github.com/yandexdataschool/nlp_course/raw/master/resources/banhammer.jpg)\n",
    "\n",
    "__In this notebook__ you will build an algorithm that classifies social media comments into normal or toxic.\n",
    "Like in many real-world cases, you only have a small (10^3) dataset of hand-labeled examples to work with. We'll tackle this problem using both classical nlp methods and embedding-based approach."
   ]
  },
  {
   "cell_type": "code",
   "execution_count": 2,
   "metadata": {},
   "outputs": [
    {
     "name": "stderr",
     "output_type": "stream",
     "text": [
      "/tmp/ipykernel_7306/3216730396.py:1: DeprecationWarning: \n",
      "Pyarrow will become a required dependency of pandas in the next major release of pandas (pandas 3.0),\n",
      "(to allow more performant data types, such as the Arrow string type, and better interoperability with other libraries)\n",
      "but was not found to be installed on your system.\n",
      "If this would cause problems for you,\n",
      "please provide us feedback at https://github.com/pandas-dev/pandas/issues/54466\n",
      "        \n",
      "  import pandas as pd\n"
     ]
    },
    {
     "data": {
      "text/html": [
       "<div>\n",
       "<style scoped>\n",
       "    .dataframe tbody tr th:only-of-type {\n",
       "        vertical-align: middle;\n",
       "    }\n",
       "\n",
       "    .dataframe tbody tr th {\n",
       "        vertical-align: top;\n",
       "    }\n",
       "\n",
       "    .dataframe thead th {\n",
       "        text-align: right;\n",
       "    }\n",
       "</style>\n",
       "<table border=\"1\" class=\"dataframe\">\n",
       "  <thead>\n",
       "    <tr style=\"text-align: right;\">\n",
       "      <th></th>\n",
       "      <th>should_ban</th>\n",
       "      <th>comment_text</th>\n",
       "    </tr>\n",
       "  </thead>\n",
       "  <tbody>\n",
       "    <tr>\n",
       "      <th>50</th>\n",
       "      <td>0</td>\n",
       "      <td>\"Those who're in advantageous positions are th...</td>\n",
       "    </tr>\n",
       "    <tr>\n",
       "      <th>250</th>\n",
       "      <td>1</td>\n",
       "      <td>Fartsalot56 says f**k you motherclucker!!</td>\n",
       "    </tr>\n",
       "    <tr>\n",
       "      <th>450</th>\n",
       "      <td>1</td>\n",
       "      <td>Are you a fool? \\n\\nI am sorry, but you seem t...</td>\n",
       "    </tr>\n",
       "    <tr>\n",
       "      <th>650</th>\n",
       "      <td>1</td>\n",
       "      <td>I AM NOT A VANDAL!!!!!!!!!!!!!!!!!!!!!!!!!!!!!!</td>\n",
       "    </tr>\n",
       "    <tr>\n",
       "      <th>850</th>\n",
       "      <td>0</td>\n",
       "      <td>Citing sources\\n\\nCheck out the Wikipedia:Citi...</td>\n",
       "    </tr>\n",
       "  </tbody>\n",
       "</table>\n",
       "</div>"
      ],
      "text/plain": [
       "     should_ban                                       comment_text\n",
       "50            0  \"Those who're in advantageous positions are th...\n",
       "250           1          Fartsalot56 says f**k you motherclucker!!\n",
       "450           1  Are you a fool? \\n\\nI am sorry, but you seem t...\n",
       "650           1    I AM NOT A VANDAL!!!!!!!!!!!!!!!!!!!!!!!!!!!!!!\n",
       "850           0  Citing sources\\n\\nCheck out the Wikipedia:Citi..."
      ]
     },
     "execution_count": 2,
     "metadata": {},
     "output_type": "execute_result"
    }
   ],
   "source": [
    "import pandas as pd\n",
    "data = pd.read_csv(\"comments.tsv\", sep='\\t')\n",
    "\n",
    "texts = data['comment_text'].values\n",
    "target = data['should_ban'].values\n",
    "data[50::200]"
   ]
  },
  {
   "cell_type": "code",
   "execution_count": 3,
   "metadata": {},
   "outputs": [],
   "source": [
    "from sklearn.model_selection import train_test_split\n",
    "texts_train, texts_test, y_train, y_test = train_test_split(texts, target, test_size=0.5, random_state=42)"
   ]
  },
  {
   "cell_type": "markdown",
   "metadata": {},
   "source": [
    "__Note:__ it is generally a good idea to split data into train/test before anything is done to them.\n",
    "\n",
    "It guards you against possible data leakage in the preprocessing stage. For example, should you decide to select words present in obscene tweets as features, you should only count those words over the training set. Otherwise your algoritm can cheat evaluation."
   ]
  },
  {
   "cell_type": "markdown",
   "metadata": {},
   "source": [
    "### Preprocessing and tokenization\n",
    "\n",
    "Comments contain raw text with punctuation, upper/lowercase letters and even newline symbols.\n",
    "\n",
    "To simplify all further steps, we'll split text into space-separated tokens using one of nltk tokenizers."
   ]
  },
  {
   "cell_type": "code",
   "execution_count": 4,
   "metadata": {},
   "outputs": [
    {
     "name": "stdout",
     "output_type": "stream",
     "text": [
      "before: How to be a grown-up at work: replace \"fuck you\" with \"Ok, great!\".\n",
      "after: how to be a grown-up at work : replace \" fuck you \" with \" ok , great ! \" .\n"
     ]
    }
   ],
   "source": [
    "from nltk.tokenize import TweetTokenizer\n",
    "tokenizer = TweetTokenizer()\n",
    "preprocess = lambda text: ' '.join(tokenizer.tokenize(text.lower()))\n",
    "\n",
    "text = 'How to be a grown-up at work: replace \"fuck you\" with \"Ok, great!\".'\n",
    "print(\"before:\", text,)\n",
    "print(\"after:\", preprocess(text),)"
   ]
  },
  {
   "cell_type": "code",
   "execution_count": 5,
   "metadata": {},
   "outputs": [
    {
     "data": {
      "text/plain": [
       "(500,)"
      ]
     },
     "execution_count": 5,
     "metadata": {},
     "output_type": "execute_result"
    }
   ],
   "source": [
    "texts_train.shape"
   ]
  },
  {
   "cell_type": "code",
   "execution_count": 6,
   "metadata": {},
   "outputs": [],
   "source": [
    "# task: preprocess each comment in train and test\n",
    "\n",
    "texts_train = np.array([preprocess(text) for text in texts_train])\n",
    "texts_test = np.array([preprocess(text) for text in texts_test])"
   ]
  },
  {
   "cell_type": "code",
   "execution_count": 7,
   "metadata": {},
   "outputs": [],
   "source": [
    "assert texts_train[5] ==  'who cares anymore . they attack with impunity .'\n",
    "assert texts_test[89] == 'hey todds ! quick q ? why are you so gay'\n",
    "assert len(texts_test) == len(y_test)"
   ]
  },
  {
   "cell_type": "markdown",
   "metadata": {},
   "source": [
    "### Solving it: bag of words\n",
    "\n",
    "![img](http://www.novuslight.com/uploads/n/BagofWords.jpg)\n",
    "\n",
    "One traditional approach to such problem is to use bag of words features:\n",
    "1. build a vocabulary of frequent words (use train data only)\n",
    "2. for each training sample, count the number of times a word occurs in it (for each word in vocabulary).\n",
    "3. consider this count a feature for some classifier\n",
    "\n",
    "__Note:__ in practice, you can compute such features using sklearn. Please don't do that in the current assignment, though.\n",
    "* `from sklearn.feature_extraction.text import CountVectorizer, TfidfVectorizer`"
   ]
  },
  {
   "cell_type": "code",
   "execution_count": 8,
   "metadata": {},
   "outputs": [
    {
     "name": "stdout",
     "output_type": "stream",
     "text": [
      "example features: ['!', '12:20', '300', '_', 'adorned', 'alternative', 'archive', 'average', 'benkner', 'bout', 'came', 'chest', 'combined', 'consumers', 'cricket', 'decisions', 'dickheads', 'domestic', 'eductaion', 'essentially', 'faggot', 'firms', 'frustrated', 'goal', 'hanibal', 'hip-hop', 'identified', 'infoboxes', 'issue', 'kindergarten', 'lets', 'lot', \"mclaren's\", 'moderator', 'naturally', 'noticeable', 'opposing', 'pdf', 'plant', 'pretoria', 'punctuation', 'rebels', 'repetative', 'riadh', 'schulz', 'shes', 'slit', 'spoof', 'stupid', 't', 'theoretical', 'topic', 'uglyness', 'userspace', 'wanted', 'wikieditor', 'year', '←']\n"
     ]
    }
   ],
   "source": [
    "# task: find up to k most frequent tokens in texts_train,\n",
    "# sort them by number of occurences (highest first)\n",
    "k = 10000\n",
    "\n",
    "from collections import Counter\n",
    "from nltk.tokenize import TweetTokenizer\n",
    "tokenizer = TweetTokenizer()\n",
    "\n",
    "counter = Counter()\n",
    "for text in texts_train:\n",
    "    tokens = text.split()\n",
    "    for token in tokens:\n",
    "        counter[token] += 1\n",
    "\n",
    "sorted_asc = sorted(counter.items(), key=lambda item: (-item[1], item[0]))\n",
    "vocabulary = sorted_asc[0:k]\n",
    "\n",
    "bow_vocabulary = [token for token, freq in sorted_asc[0:k]]\n",
    "\n",
    "print('example features:', sorted(bow_vocabulary)[::100])"
   ]
  },
  {
   "cell_type": "code",
   "execution_count": 9,
   "metadata": {},
   "outputs": [],
   "source": [
    "vocab_size = len(bow_vocabulary)\n",
    "\n",
    "def text_to_bow(text):\n",
    "    \"\"\" convert text string to an array of token counts. Use bow_vocabulary. \"\"\"\n",
    "    tokens = text.split()\n",
    "    arr = [0] * vocab_size\n",
    "    for t in tokens:\n",
    "        try:\n",
    "            idx = bow_vocabulary.index(t)\n",
    "            arr[idx] += 1\n",
    "        except:\n",
    "            pass\n",
    "    \n",
    "    return np.array(arr, 'float32')"
   ]
  },
  {
   "cell_type": "code",
   "execution_count": 10,
   "metadata": {},
   "outputs": [],
   "source": [
    "X_train_bow = np.stack(list(map(text_to_bow, texts_train)))\n",
    "X_test_bow = np.stack(list(map(text_to_bow, texts_test)))"
   ]
  },
  {
   "cell_type": "code",
   "execution_count": 11,
   "metadata": {},
   "outputs": [],
   "source": [
    "k_max = len(set(' '.join(texts_train).split()))\n",
    "assert X_train_bow.shape == (len(texts_train), min(k, k_max))\n",
    "assert X_test_bow.shape == (len(texts_test), min(k, k_max))\n",
    "assert np.all(X_train_bow[5:10].sum(-1) == np.array([len(s.split()) for s in  texts_train[5:10]]))\n",
    "assert len(bow_vocabulary) <= min(k, k_max)\n",
    "assert X_train_bow[6, bow_vocabulary.index('.')] == texts_train[6].split().count('.')"
   ]
  },
  {
   "cell_type": "markdown",
   "metadata": {},
   "source": [
    "__Naive bayes:__ perhaps the simplest model that can solve your problem is the so called Naive Bayes Classifier. \n",
    "Its a trivial linear model that assumes the independence of input features and computes the coefficients by, well, counting probabilities.\n",
    "\n",
    "If you don't remember the math behind Naive Bayes, read [this chunk](https://lena-voita.github.io/nlp_course/text_classification.html#naive_bayes) to help refresh your memory. Done? Good! Now let's implement that :)"
   ]
  },
  {
   "cell_type": "code",
   "execution_count": 12,
   "metadata": {},
   "outputs": [
    {
     "data": {
      "text/plain": [
       "array([ 608.,  496., 1041., ...,    0.,    0.,    0.], dtype=float32)"
      ]
     },
     "execution_count": 12,
     "metadata": {},
     "output_type": "execute_result"
    }
   ],
   "source": [
    "X_train_bow[y_train == 1].sum(axis=0)"
   ]
  },
  {
   "cell_type": "code",
   "execution_count": 13,
   "metadata": {},
   "outputs": [],
   "source": [
    "class BinaryNaiveBayes:\n",
    "    delta = 1.0  # add this to all word counts to smoothe probabilities\n",
    "    \n",
    "    def fit(self, X, y):\n",
    "        \"\"\"\n",
    "        Fit a NaiveBayes classifier for two classes\n",
    "        :param X: [batch_size, vocab_size] of bag-of-words features\n",
    "        :param y: [batch_size] of binary targets {0, 1}\n",
    "        \"\"\"\n",
    "        # first, compute marginal probabilities of every class, p(y=k) for k = 0,1\n",
    "        self.p_y = np.array([(y == 0).sum() / len(y), (y == 1).sum() / len(y)])\n",
    "        \n",
    "        # count occurences of each word in texts with label 1 and label 0 separately\n",
    "        word_counts_positive = X[y == 1].sum(axis=0)\n",
    "        word_counts_negative = X[y == 0].sum(axis=0)\n",
    "        # ^-- both must be vectors of shape [vocab_size].\n",
    "        \n",
    "        # finally, lets use those counts to estimate p(x | y = k) for k = 0, 1\n",
    "        \n",
    "        total_count_positive = self.delta * vocab_size + word_counts_positive.sum()\n",
    "        total_count_negative = self.delta * vocab_size + word_counts_negative.sum()\n",
    "        \n",
    "        self.p_x_given_positive = (word_counts_positive + self.delta) / total_count_positive\n",
    "        self.p_x_given_negative = (word_counts_negative + self.delta) / total_count_negative\n",
    "        # both must be of shape [vocab_size]; and don't forget to add self.delta!\n",
    "        \n",
    "        return self\n",
    "    \n",
    "    def predict_scores(self, X):\n",
    "        \"\"\"\n",
    "        :param X: [batch_size, vocab_size] of bag-of-words features\n",
    "        :returns: a matrix of scores [batch_size, k] of scores for k-th class\n",
    "        \"\"\"\n",
    "        # compute scores for positive and negative classes separately.\n",
    "        # these scores should be proportional to log-probabilities of the respective target {0, 1}\n",
    "        # note: if you apply logarithm to p_x_given_*, the total log-probability can be written\n",
    "        # as a dot-product with X\n",
    "\n",
    "        batch_size = X.shape[0]\n",
    "        # print(f\"batch_size = {batch_size}\")\n",
    "        p_x_given_negative_batch = np.array([self.p_x_given_negative] * batch_size)\n",
    "        p_x_given_positive_batch = np.array([self.p_x_given_positive] * batch_size)\n",
    "\n",
    "        # print(f\"first shape = {np.log(p_x_given_negative_batch).shape}\")\n",
    "        # print(f\"X.shape = {X.shape}\")\n",
    "        \n",
    "        score_negative = (np.log(p_x_given_negative_batch) * X).sum(axis=-1) + np.array([np.log(self.p_y[0])] * batch_size)\n",
    "        # print(f\"score_negative.shape = {score_negative.shape}\")\n",
    "        \n",
    "        score_positive = (np.log(p_x_given_positive_batch) * X).sum(axis=-1) + np.array([np.log(self.p_y[1])] * batch_size)\n",
    "        # print(f\"score_positive.shape = {score_positive.shape}\")\n",
    "        \n",
    "        # you can compute total p(x | y=k) with a dot product\n",
    "        return np.stack([score_negative, score_positive], axis=-1)\n",
    "    \n",
    "    def predict(self, X):\n",
    "        return self.predict_scores(X).argmax(axis=-1)\n",
    "\n",
    "naive_model = BinaryNaiveBayes().fit(X_train_bow, y_train)"
   ]
  },
  {
   "cell_type": "code",
   "execution_count": 14,
   "metadata": {},
   "outputs": [],
   "source": [
    "# naive_model = BinaryNaiveBayes().fit(X_train_bow, y_train)"
   ]
  },
  {
   "cell_type": "code",
   "execution_count": 15,
   "metadata": {},
   "outputs": [],
   "source": [
    "assert naive_model.p_y.shape == (2,) and naive_model.p_y.sum() == 1 and naive_model.p_y[0] > naive_model.p_y[1]\n",
    "assert naive_model.p_x_given_positive.shape == naive_model.p_x_given_negative.shape == X_train_bow.shape[1:]\n",
    "assert np.allclose(naive_model.p_x_given_positive.sum(), 1.0)\n",
    "assert np.allclose(naive_model.p_x_given_negative.sum(), 1.0)\n",
    "assert naive_model.p_x_given_negative.min() > 0, \"did you forget to add delta?\"\n",
    "\n",
    "f_index = bow_vocabulary.index('fuck')  # offensive tweets should contain more of this\n",
    "assert naive_model.p_x_given_positive[f_index] > naive_model.p_x_given_negative[f_index]\n",
    "\n",
    "g_index = bow_vocabulary.index('good')  # offensive tweets should contain less of this\n",
    "assert naive_model.p_x_given_positive[g_index] < naive_model.p_x_given_negative[g_index]"
   ]
  },
  {
   "cell_type": "code",
   "execution_count": 16,
   "metadata": {},
   "outputs": [
    {
     "name": "stdout",
     "output_type": "stream",
     "text": [
      "500\n"
     ]
    },
    {
     "data": {
      "text/plain": [
       "array([1, 0, 1, 0, 1, 1, 1, 0, 0, 1, 0, 1, 1, 1, 1, 1, 0, 0, 0, 0, 1, 1,\n",
       "       1, 1, 0, 1, 0, 1, 1, 0, 0, 0, 0, 0, 1, 0, 1, 1, 0, 0, 0, 0, 1, 0,\n",
       "       1, 0, 0, 0, 0, 1, 1, 0, 0, 0, 1, 1, 1, 0, 0, 0, 0, 1, 1, 0, 1, 0,\n",
       "       0, 0, 0, 0, 0, 1, 0, 1, 0, 0, 0, 1, 0, 0, 0, 1, 1, 1, 0, 0, 1, 1,\n",
       "       1, 1, 0, 1, 1, 1, 0, 0, 0, 0, 0, 0, 0, 1, 1, 1, 0, 0, 1, 0, 1, 0,\n",
       "       1, 0, 1, 1, 1, 0, 0, 0, 0, 0, 1, 1, 0, 1, 1, 1, 0, 0, 1, 0, 1, 0,\n",
       "       0, 1, 0, 0, 1, 0, 1, 0, 1, 1, 0, 1, 0, 0, 0, 1, 1, 0, 1, 0, 0, 1,\n",
       "       1, 1, 1, 1, 0, 1, 1, 0, 0, 1, 1, 0, 1, 0, 1, 0, 0, 0, 0, 0, 1, 1,\n",
       "       0, 0, 0, 1, 0, 1, 1, 1, 1, 0, 0, 1, 0, 0, 1, 1, 0, 1, 1, 1, 0, 1,\n",
       "       1, 0, 0, 1, 0, 1, 0, 0, 0, 1, 1, 0, 1, 0, 0, 0, 0, 0, 0, 1, 0, 1,\n",
       "       1, 0, 1, 0, 0, 1, 0, 0, 1, 1, 1, 0, 1, 0, 0, 1, 1, 0, 1, 0, 1, 1,\n",
       "       1, 0, 1, 0, 1, 1, 0, 1, 1, 0, 0, 0, 0, 0, 1, 1, 0, 0, 0, 0, 1, 0,\n",
       "       0, 1, 0, 0, 0, 1, 1, 0, 0, 1, 0, 0, 0, 1, 0, 0, 1, 0, 0, 1, 0, 1,\n",
       "       0, 1, 1, 0, 0, 1, 0, 1, 1, 0, 0, 0, 1, 0, 0, 0, 0, 0, 0, 0, 0, 0,\n",
       "       0, 0, 0, 1, 1, 1, 1, 1, 0, 1, 0, 0, 0, 0, 0, 0, 0, 0, 1, 0, 1, 0,\n",
       "       0, 0, 1, 0, 0, 1, 0, 0, 0, 1, 1, 0, 0, 0, 0, 0, 1, 0, 0, 0, 1, 0,\n",
       "       1, 0, 0, 0, 1, 1, 0, 1, 0, 1, 1, 1, 0, 1, 1, 0, 0, 1, 0, 1, 1, 0,\n",
       "       1, 0, 0, 1, 0, 0, 0, 0, 1, 0, 1, 0, 0, 0, 1, 0, 0, 0, 1, 0, 1, 0,\n",
       "       0, 1, 1, 1, 0, 1, 0, 0, 0, 0, 1, 0, 0, 1, 1, 0, 0, 0, 0, 1, 1, 0,\n",
       "       1, 0, 1, 1, 0, 0, 0, 0, 1, 0, 1, 0, 0, 0, 1, 0, 0, 1, 0, 0, 0, 0,\n",
       "       1, 0, 1, 1, 0, 0, 0, 0, 0, 0, 0, 1, 0, 1, 1, 0, 1, 1, 0, 1, 1, 0,\n",
       "       0, 1, 1, 1, 0, 0, 1, 0, 1, 0, 0, 0, 1, 0, 1, 0, 1, 0, 0, 0, 0, 0,\n",
       "       1, 0, 1, 0, 0, 0, 0, 1, 0, 0, 1, 1, 0, 1, 0, 1])"
      ]
     },
     "execution_count": 16,
     "metadata": {},
     "output_type": "execute_result"
    }
   ],
   "source": [
    "X = X_test_bow\n",
    "y = y_test\n",
    "\n",
    "print(X.shape[0])\n",
    "\n",
    "# print(texts[0])\n",
    "# print(y)\n",
    "\n",
    "naive_model.predict(X)"
   ]
  },
  {
   "cell_type": "code",
   "execution_count": 17,
   "metadata": {},
   "outputs": [
    {
     "name": "stdout",
     "output_type": "stream",
     "text": [
      "(500, 5707)\n",
      "(500, 5707)\n",
      "Model accuracy: 0.756\n",
      "Well done!\n"
     ]
    },
    {
     "data": {
      "image/png": "[encoded data removed]",
      "text/plain": [
       "<Figure size 640x480 with 1 Axes>"
      ]
     },
     "metadata": {},
     "output_type": "display_data"
    }
   ],
   "source": [
    "from sklearn.metrics import roc_auc_score, roc_curve\n",
    "\n",
    "for name, X, y, model in [\n",
    "    ('train', X_train_bow, y_train, naive_model),\n",
    "    ('test ', X_test_bow, y_test, naive_model)\n",
    "]:\n",
    "    print(X.shape)\n",
    "    proba = model.predict_scores(X)[:, 1] - model.predict_scores(X)[:, 0]\n",
    "    auc = roc_auc_score(y, proba)\n",
    "    plt.plot(*roc_curve(y, proba)[:2], label='%s AUC=%.4f' % (name, auc))\n",
    "\n",
    "plt.plot([0, 1], [0, 1], '--', color='black',)\n",
    "plt.legend(fontsize='large')\n",
    "plt.grid()\n",
    "\n",
    "test_accuracy = np.mean(naive_model.predict(X_test_bow) == y_test)\n",
    "print(f\"Model accuracy: {test_accuracy:.3f}\")\n",
    "assert test_accuracy > 0.75, \"Accuracy too low. There's likely a mistake in the code.\"\n",
    "print(\"Well done!\")"
   ]
  },
  {
   "cell_type": "markdown",
   "metadata": {},
   "source": [
    "Okay, it definitely learned *something*. Now let's figure out what exactly it learned. The simplest way to do that is by highlighting which words have a greatest ratio of positive to negative probability or vice versa. We'll go with the positive one [because reasons](https://www.urbandictionary.com/define.php?term=because%20reasons).\n",
    "\n",
    "__Your task__ is to compute top-25 words that have the __highest__ ratio of ${p(x_i | y=1)} \\over {p(x_i | y=0)}$. Enjoy!"
   ]
  },
  {
   "cell_type": "code",
   "execution_count": 18,
   "metadata": {},
   "outputs": [
    {
     "name": "stdout",
     "output_type": "stream",
     "text": [
      "[ 16  17  21  13  35  36  39  70 105 115 131 132 177 207 313  12 317 324\n",
      " 342 181 365 375 406 393 465]\n",
      "[475.47345  471.80652  441.2491   314.74142  223.6803   220.01341\n",
      " 187.0114    97.78374   59.892544  53.781055  44.00268   44.00268\n",
      "  31.779715  26.890528  18.334452  17.539957  17.112156  17.112156\n",
      "  15.889857  15.278709  14.667562  14.667562  13.445264  13.445264\n",
      "  12.222967]\n"
     ]
    },
    {
     "data": {
      "text/plain": [
       "array(['hitler', 'heil', 'offfuck', 'suck', 'nigger', 'j.delanoy', 'dick',\n",
       "       'fggt', 'bitch', 'fuck', 'shit', 'slap', 'fucking', 'ass',\n",
       "       'stupid', '=', '*', 'college', 'asshole', 'u', 'bastard', 'hit',\n",
       "       'idiot', '@', 'scientific'], dtype='<U128')"
      ]
     },
     "execution_count": 18,
     "metadata": {},
     "output_type": "execute_result"
    }
   ],
   "source": [
    "probability_ratio = naive_model.p_x_given_positive / naive_model.p_x_given_negative\n",
    "top_args = np.argsort(-probability_ratio)[:25]\n",
    "print(top_args)\n",
    "print(probability_ratio[top_args])\n",
    "np.array(bow_vocabulary)[top_args]"
   ]
  },
  {
   "cell_type": "code",
   "execution_count": 19,
   "metadata": {},
   "outputs": [
    {
     "name": "stdout",
     "output_type": "stream",
     "text": [
      "#0\t    hitler\t(ratio=475.47344970703125)\n",
      "#1\t      heil\t(ratio=471.8065185546875)\n",
      "#2\t   offfuck\t(ratio=441.2491149902344)\n",
      "#3\t      suck\t(ratio=314.7414245605469)\n",
      "#4\t    nigger\t(ratio=223.6802978515625)\n",
      "#5\t j.delanoy\t(ratio=220.01341247558594)\n",
      "#6\t      dick\t(ratio=187.0113983154297)\n",
      "#7\t      fggt\t(ratio=97.78373718261719)\n",
      "#8\t     bitch\t(ratio=59.89254379272461)\n",
      "#9\t      fuck\t(ratio=53.78105545043945)\n",
      "#10\t      shit\t(ratio=44.002681732177734)\n",
      "#11\t      slap\t(ratio=44.002681732177734)\n",
      "#12\t   fucking\t(ratio=31.779714584350586)\n",
      "#13\t       ass\t(ratio=26.890527725219727)\n",
      "#14\t    stupid\t(ratio=18.33445167541504)\n",
      "#15\t         =\t(ratio=17.53995704650879)\n",
      "#16\t         *\t(ratio=17.11215591430664)\n",
      "#17\t   college\t(ratio=17.11215591430664)\n",
      "#18\t   asshole\t(ratio=15.889857292175293)\n",
      "#19\t         u\t(ratio=15.278709411621094)\n",
      "#20\t   bastard\t(ratio=14.667561531066895)\n",
      "#21\t       hit\t(ratio=14.667561531066895)\n",
      "#22\t     idiot\t(ratio=13.445263862609863)\n",
      "#23\t         @\t(ratio=13.445263862609863)\n",
      "#24\tscientific\t(ratio=12.222967147827148)\n"
     ]
    }
   ],
   "source": [
    "# hint: use naive_model.p_*\n",
    "probability_ratio = naive_model.p_x_given_positive / naive_model.p_x_given_negative\n",
    "top_args = np.argsort(-probability_ratio)[:25]\n",
    "top_negative_words = list(np.array(bow_vocabulary)[top_args])\n",
    "\n",
    "assert len(top_negative_words) == 25 and [isinstance(w, str) for w in top_negative_words]\n",
    "assert 'j.delanoy' in top_negative_words and 'college' in top_negative_words\n",
    "\n",
    "for i, word in enumerate(top_negative_words):\n",
    "    print(f\"#{i}\\t{word.rjust(10, ' ')}\\t(ratio={probability_ratio[bow_vocabulary.index(word)]})\")"
   ]
  },
  {
   "cell_type": "markdown",
   "metadata": {},
   "source": [
    "Now lets try something less prehistoric: __Logistic Regression__. Turns out, if you're using silicon instead of an abacus, you can find model weights by optimizing the log-probability of the answer. Though, of course, you don't even need to write it by hand anymore. Let's sklearn it!"
   ]
  },
  {
   "cell_type": "code",
   "execution_count": 20,
   "metadata": {},
   "outputs": [],
   "source": [
    "from sklearn.linear_model import LogisticRegression\n",
    "bow_model = LogisticRegression(C=0.14, random_state=0).fit(X_train_bow, y_train)"
   ]
  },
  {
   "cell_type": "code",
   "execution_count": 21,
   "metadata": {},
   "outputs": [
    {
     "name": "stdout",
     "output_type": "stream",
     "text": [
      "Model accuracy: 0.772\n",
      "Well done!\n"
     ]
    },
    {
     "data": {
      "image/png": "[encoded data removed]",
      "text/plain": [
       "<Figure size 640x480 with 1 Axes>"
      ]
     },
     "metadata": {},
     "output_type": "display_data"
    }
   ],
   "source": [
    "from sklearn.metrics import roc_auc_score, roc_curve\n",
    "\n",
    "for name, X, y, model in [\n",
    "    ('train', X_train_bow, y_train, bow_model),\n",
    "    ('test ', X_test_bow, y_test, bow_model)\n",
    "]:\n",
    "    proba = model.predict_proba(X)[:, 1]\n",
    "    auc = roc_auc_score(y, proba)\n",
    "    plt.plot(*roc_curve(y, proba)[:2], label='%s AUC=%.4f' % (name, auc))\n",
    "\n",
    "plt.plot([0, 1], [0, 1], '--', color='black',)\n",
    "plt.legend(fontsize='large')\n",
    "plt.grid()\n",
    "\n",
    "test_accuracy = np.mean(bow_model.predict(X_test_bow) == y_test)\n",
    "print(f\"Model accuracy: {test_accuracy:.3f}\")\n",
    "assert test_accuracy > 0.77, \"Hint: tune the parameter C to improve performance\"\n",
    "print(\"Well done!\")"
   ]
  },
  {
   "cell_type": "markdown",
   "metadata": {},
   "source": [
    "### Task: implement TF-IDF features\n",
    "\n",
    "Not all words are equally useful. One can prioritize rare words and downscale words like \"and\"/\"or\" by using __tf-idf features__. This abbreviation stands for __text frequency/inverse document frequence__ and means exactly that:\n",
    "\n",
    "$$ feature_i = { Count(word_i \\in x) \\times { log {N \\over Count(word_i \\in D) + \\alpha} }} $$\n",
    "\n",
    "\n",
    ", where x is a single text, D is your dataset (a collection of texts), N is a total number of documents and $\\alpha$ is a smoothing hyperparameter (typically 1). \n",
    "And $Count(word_i \\in D)$ is the number of documents where $word_i$ appears.\n",
    "\n",
    "It may also be a good idea to normalize each data sample after computing tf-idf features.\n",
    "\n",
    "__Your task:__ implement tf-idf features, train a model and evaluate ROC curve. Compare it with basic BagOfWords model from above.\n",
    "\n",
    "Please don't use sklearn/nltk builtin tf-idf vectorizers in your solution :) You can still use 'em for debugging though."
   ]
  },
  {
   "cell_type": "code",
   "execution_count": 22,
   "metadata": {},
   "outputs": [
    {
     "name": "stdout",
     "output_type": "stream",
     "text": [
      "5707\n",
      "5707\n",
      "(500,)\n",
      "(500,)\n",
      "(500,)\n",
      "(500,)\n"
     ]
    }
   ],
   "source": [
    "print(vocab_size)\n",
    "print(len(bow_vocabulary))\n",
    "print(texts_train.shape)\n",
    "print(texts_test.shape)\n",
    "print(y_train.shape)\n",
    "print(y_test.shape)"
   ]
  },
  {
   "cell_type": "code",
   "execution_count": 23,
   "metadata": {},
   "outputs": [],
   "source": [
    "# X_train_tfidf\n",
    "# X_test_tfidf"
   ]
  },
  {
   "cell_type": "code",
   "execution_count": 24,
   "metadata": {},
   "outputs": [],
   "source": [
    "X_bow = np.stack(list(map(text_to_bow, texts)))"
   ]
  },
  {
   "cell_type": "code",
   "execution_count": 25,
   "metadata": {},
   "outputs": [
    {
     "name": "stdout",
     "output_type": "stream",
     "text": [
      "(1000,)\n"
     ]
    },
    {
     "name": "stderr",
     "output_type": "stream",
     "text": [
      "/tmp/ipykernel_7306/796646515.py:19: RuntimeWarning: invalid value encountered in divide\n",
      "  normalized_tfidf = tf_idf / norms[:, np.newaxis]\n"
     ]
    },
    {
     "data": {
      "text/plain": [
       "array([1.        , 0.99999994, 1.        , 1.        , 1.        ,\n",
       "       1.        , 1.        , 0.99999994, 0.99999994, 0.99999994,\n",
       "       0.99999994, 1.        , 0.99999994, 1.        , 1.        ,\n",
       "       0.99999994, 1.        , 1.        , 1.        , 1.        ,\n",
       "       0.9999999 , 0.99999994, 1.        ,        nan, 0.99999994,\n",
       "              nan, 1.        , 1.0000001 , 0.9999999 , 1.        ,\n",
       "       1.        , 1.        , 1.        , 0.99999994, 0.99999994,\n",
       "              nan, 1.        ,        nan, 1.        , 1.        ,\n",
       "       0.99999994, 0.99999994, 0.99999994, 1.        , 1.        ,\n",
       "       1.        , 1.        , 1.        ,        nan, 1.        ,\n",
       "       1.        , 0.99999994, 0.99999994, 1.        ,        nan,\n",
       "       1.        , 1.        , 1.        , 0.99999994, 1.        ,\n",
       "       1.        , 0.99999994, 0.99999994, 0.99999994, 0.99999994,\n",
       "       0.99999994, 0.99999994, 1.        , 1.        , 1.        ,\n",
       "       1.        , 1.        , 0.99999994, 0.99999994, 1.        ,\n",
       "       1.        , 0.99999994, 1.        , 1.        , 1.        ,\n",
       "              nan, 0.99999994,        nan, 1.        , 0.99999994,\n",
       "       1.        , 1.        , 0.9999999 , 1.        , 0.99999994,\n",
       "       1.        , 1.        , 0.99999994, 1.        , 0.99999994,\n",
       "       0.99999994, 1.        ,        nan, 1.        , 0.99999994,\n",
       "       1.        , 1.        , 1.        , 0.99999994, 0.99999994,\n",
       "       1.        , 1.        , 0.99999994, 1.        , 1.        ,\n",
       "       1.        , 1.        , 0.99999994, 0.99999994, 1.        ,\n",
       "       1.0000001 , 1.        , 1.        , 1.        , 1.        ,\n",
       "       1.        , 1.        , 0.99999994, 1.        , 1.        ,\n",
       "       1.        , 1.        , 0.99999994, 1.        , 1.        ,\n",
       "       1.        , 1.        , 1.        , 1.        , 0.99999994,\n",
       "       1.        , 0.99999994, 1.        , 1.        , 0.99999994,\n",
       "       0.99999994, 1.        , 0.99999994, 0.99999994, 1.        ,\n",
       "       1.        , 1.        , 0.99999994, 1.        , 1.        ,\n",
       "       1.        , 1.        , 0.99999994, 1.        , 1.        ,\n",
       "       1.        , 0.99999994, 1.        , 1.        , 1.        ,\n",
       "       0.99999994, 0.9999999 , 1.        , 1.        , 1.        ,\n",
       "       1.        , 1.0000001 , 1.        , 0.99999994, 0.99999994,\n",
       "       1.        , 1.        , 0.99999994, 1.        , 1.        ,\n",
       "       1.        , 0.99999994, 0.99999994,        nan, 1.        ,\n",
       "       1.        , 1.        , 1.        , 1.0000001 , 1.        ,\n",
       "       1.        ,        nan, 0.99999994, 1.        , 1.        ,\n",
       "       1.        , 1.        , 1.        , 0.99999994, 1.        ,\n",
       "       1.        , 1.        ,        nan, 1.        , 1.        ,\n",
       "       1.        , 1.        , 1.        , 1.        , 1.        ,\n",
       "       1.0000001 , 1.        , 1.        , 1.        , 1.        ,\n",
       "       1.        , 1.        , 1.        , 0.99999994, 1.        ,\n",
       "       0.99999994, 1.        , 1.        , 0.99999994, 0.99999994,\n",
       "       1.        , 0.99999994, 1.        , 0.99999994, 1.        ,\n",
       "       1.        , 0.99999994, 0.99999994, 1.        , 1.        ,\n",
       "       1.        , 1.        , 1.        , 0.99999994, 1.        ,\n",
       "       0.99999994, 1.        , 1.        , 1.        , 1.        ,\n",
       "       1.        , 0.99999994, 1.        , 1.        , 0.99999994,\n",
       "       0.99999994, 1.        , 1.        , 0.99999994, 0.99999994,\n",
       "       1.        , 1.        , 0.99999994, 1.        , 1.        ,\n",
       "       1.        , 1.        , 1.        , 1.0000001 , 1.        ,\n",
       "       0.9999999 , 0.99999994, 1.        , 1.        , 0.99999994,\n",
       "       1.        , 1.        , 0.99999994, 1.        , 1.        ,\n",
       "       0.99999994, 0.99999994, 1.        , 1.        , 0.99999994,\n",
       "       1.        , 1.        , 1.0000001 , 1.        , 1.        ,\n",
       "       1.        , 0.99999994, 1.        , 1.        , 1.        ,\n",
       "       0.99999994, 1.        , 0.99999994, 1.        , 0.99999994,\n",
       "       1.        , 1.        , 0.99999994, 1.        , 1.        ,\n",
       "       0.99999994, 0.99999994, 1.        , 1.        ,        nan,\n",
       "              nan, 0.99999994, 1.        , 0.99999994, 1.        ,\n",
       "       1.        , 1.        , 0.99999994, 1.        , 0.99999994,\n",
       "       0.99999994, 0.9999999 , 0.99999994, 1.        , 1.        ,\n",
       "       1.        , 1.        , 1.        , 1.        , 0.9999999 ,\n",
       "       0.99999994, 0.9999999 , 0.99999994, 1.        , 1.        ,\n",
       "       1.        , 1.0000001 ,        nan, 1.        , 1.        ,\n",
       "       0.99999994, 0.99999994, 1.        , 1.        , 0.99999994,\n",
       "              nan,        nan, 0.99999994, 0.99999994, 1.        ,\n",
       "       1.        , 1.        , 1.        , 0.99999994, 0.99999994,\n",
       "       1.        , 1.        , 0.99999994, 0.99999994, 1.        ,\n",
       "       1.        , 1.        , 0.99999994, 1.        , 1.        ,\n",
       "       1.        , 1.        , 1.        , 1.        , 1.        ,\n",
       "       0.99999994, 1.        , 1.        , 1.        , 1.        ,\n",
       "              nan, 1.        , 1.        , 1.        ,        nan,\n",
       "       1.        , 1.        , 0.99999994, 1.        , 1.        ,\n",
       "       1.        , 1.        , 1.        , 1.        , 0.99999994,\n",
       "              nan,        nan, 1.        , 1.        , 1.        ,\n",
       "       1.        , 0.99999994, 1.        , 1.        , 0.99999994,\n",
       "       0.99999994, 1.        , 1.        , 0.99999994, 0.99999994,\n",
       "       1.        , 1.        , 1.        , 1.        , 1.        ,\n",
       "              nan, 1.        , 1.        , 1.        , 0.99999994,\n",
       "       1.        , 1.        , 1.        , 1.        , 1.        ,\n",
       "       0.99999994, 1.        ,        nan, 1.        , 1.        ,\n",
       "       1.        , 0.99999994, 1.        , 1.        , 0.99999994,\n",
       "       0.99999994, 1.        , 1.        , 1.0000001 , 0.99999994,\n",
       "       1.        , 0.99999994, 1.        , 0.99999994, 0.99999994,\n",
       "       1.        , 1.        , 0.99999994, 0.99999994, 1.        ,\n",
       "       1.        , 1.        , 0.99999994, 1.        , 1.        ,\n",
       "       1.        , 1.        , 0.99999994, 1.        ,        nan,\n",
       "       0.9999999 , 1.        , 0.99999994, 0.99999994, 0.99999994,\n",
       "       0.99999994, 0.99999994, 1.        , 1.        , 1.        ,\n",
       "       1.0000001 , 1.        , 0.99999994, 1.        , 1.        ,\n",
       "       1.        , 1.        ,        nan, 1.        , 1.        ,\n",
       "       0.99999994, 1.0000001 ,        nan, 1.        , 1.0000001 ,\n",
       "       1.        , 0.9999999 , 1.        , 0.99999994, 1.        ,\n",
       "       1.        , 1.        , 1.        , 1.        , 1.        ,\n",
       "       0.99999994, 1.        , 1.        , 1.        , 1.        ,\n",
       "       1.        , 1.        , 1.        , 0.99999994, 1.        ,\n",
       "       1.        , 1.        , 0.99999994, 1.        , 1.        ,\n",
       "       1.        , 0.99999994, 0.99999994, 1.        , 1.        ,\n",
       "       1.        , 0.99999994, 0.99999994, 1.        , 0.99999994,\n",
       "       1.        , 1.        , 0.99999994, 1.        , 0.9999999 ,\n",
       "       1.        , 1.        , 1.        , 1.        , 1.        ,\n",
       "       1.        , 1.        , 1.        , 1.        , 1.        ,\n",
       "       0.99999994, 0.99999994, 1.        , 1.        , 1.        ,\n",
       "       1.        , 1.        , 1.        , 1.        , 1.0000001 ,\n",
       "       1.        , 1.        , 1.        , 1.        , 0.9999999 ,\n",
       "       0.99999994, 1.        , 0.99999994, 1.        , 0.99999994,\n",
       "       1.        , 1.        , 1.0000001 , 1.        , 0.99999994,\n",
       "       1.        , 0.99999994, 1.        , 1.        , 0.99999994,\n",
       "       1.        , 0.99999994, 0.99999994, 0.99999994, 1.        ,\n",
       "       1.        , 1.        , 1.        , 1.0000001 , 1.        ,\n",
       "       1.        , 1.        , 1.        , 1.        , 1.        ,\n",
       "       1.        , 1.        , 0.99999994, 1.        ,        nan,\n",
       "       1.        ,        nan, 1.        , 1.        , 1.        ,\n",
       "       1.        , 0.99999994, 1.        , 0.99999994,        nan,\n",
       "       1.        , 0.99999994, 1.        , 0.99999994, 1.        ,\n",
       "       1.        , 1.        , 1.        , 1.        , 1.        ,\n",
       "       1.        , 1.        , 1.        , 1.        , 1.        ,\n",
       "       1.        , 1.        ,        nan, 0.99999994, 1.        ,\n",
       "       1.        , 1.        , 1.        , 1.        , 1.        ,\n",
       "       1.        , 1.        , 1.        , 1.        , 0.9999999 ,\n",
       "       1.        , 1.        , 0.99999994, 0.99999994, 1.        ,\n",
       "       0.99999994, 1.        , 1.        , 1.        , 0.99999994,\n",
       "              nan, 1.        , 1.        , 1.        , 1.        ,\n",
       "       1.        , 1.        , 1.        , 1.        , 1.        ,\n",
       "       1.        , 1.0000001 , 1.        , 1.        , 0.99999994,\n",
       "       0.99999994, 0.99999994, 1.        , 0.99999994, 1.        ,\n",
       "       1.        , 1.        , 1.        , 1.        , 0.99999994,\n",
       "       1.        , 1.        , 1.        , 1.        , 1.        ,\n",
       "              nan,        nan, 1.        , 0.99999994, 0.99999994,\n",
       "       1.        , 1.        , 0.99999994, 1.        , 1.        ,\n",
       "       1.        , 0.9999999 , 1.        , 1.0000001 ,        nan,\n",
       "       0.99999994, 1.        , 0.99999994, 0.99999994, 0.99999994,\n",
       "              nan, 1.        , 1.        , 1.        , 1.        ,\n",
       "       1.        , 0.99999994, 0.99999994, 1.        ,        nan,\n",
       "       0.99999994, 1.        , 1.        , 1.        , 0.9999999 ,\n",
       "       0.99999994, 1.        , 1.        , 1.        , 1.        ,\n",
       "       1.        , 1.        , 1.        , 1.        , 0.99999994,\n",
       "       1.        , 1.        , 1.        , 1.        , 0.99999994,\n",
       "       0.99999994, 1.        ,        nan, 1.        ,        nan,\n",
       "       1.        , 0.99999994, 1.        , 1.0000001 , 1.        ,\n",
       "       1.        , 0.99999994, 1.        , 1.        , 1.        ,\n",
       "       1.        , 1.        , 0.99999994, 1.        , 1.        ,\n",
       "       1.        , 1.        , 0.9999999 , 1.        , 1.        ,\n",
       "       1.        , 1.        , 0.99999994, 1.        , 0.99999994,\n",
       "       1.        , 0.99999994, 1.        , 1.0000001 , 1.        ,\n",
       "       1.        , 0.99999994, 1.        , 1.        , 0.99999994,\n",
       "       0.99999994, 0.99999994, 1.        , 0.99999994, 1.        ,\n",
       "       1.        , 1.        , 1.        , 1.        , 1.        ,\n",
       "       1.        , 0.99999994, 0.99999994, 1.        , 1.        ,\n",
       "       0.99999994, 1.        , 1.        , 1.        , 1.        ,\n",
       "       1.        , 0.99999994, 1.        , 1.        , 1.        ,\n",
       "       1.        , 1.        , 0.9999999 , 0.99999994, 1.        ,\n",
       "       0.99999994, 0.99999994, 0.99999994, 1.        , 0.99999994,\n",
       "       1.        , 1.        , 0.99999994, 0.99999994, 0.99999994,\n",
       "       0.99999994, 1.        , 1.        , 1.        , 1.        ,\n",
       "       0.99999994, 1.        , 1.        ,        nan,        nan,\n",
       "       0.99999994, 1.        , 1.        , 1.        , 1.        ,\n",
       "       1.        , 1.        , 1.        , 1.        , 1.        ,\n",
       "       1.        , 0.99999994, 0.99999994, 0.99999994, 1.        ,\n",
       "       1.        , 1.        , 0.99999994, 1.        , 1.        ,\n",
       "       1.        , 1.        , 1.        , 0.99999994, 1.        ,\n",
       "       1.        , 1.        , 0.99999994, 1.        , 1.        ,\n",
       "       1.        , 1.        , 0.99999994, 1.        , 0.99999994,\n",
       "       1.        , 0.99999994, 0.99999994, 0.99999994, 1.        ,\n",
       "       1.        , 0.9999999 , 1.        , 1.        , 0.99999994,\n",
       "       1.        , 1.        , 1.        , 0.99999994, 1.        ,\n",
       "       0.99999994, 0.99999994, 1.        , 1.        , 0.9999999 ,\n",
       "       0.99999994, 1.        , 1.        , 0.99999994, 0.99999994,\n",
       "       1.        , 1.        , 0.99999994, 0.99999994, 0.99999994,\n",
       "       1.        , 1.        , 1.        , 1.        , 0.99999994,\n",
       "       1.        , 1.        , 1.        , 0.99999994, 1.        ,\n",
       "       0.99999994, 1.        , 1.        , 1.        , 0.99999994,\n",
       "              nan, 1.        , 1.        , 0.99999994, 0.99999994,\n",
       "       0.9999999 , 1.        , 1.        , 0.99999994, 0.99999994,\n",
       "       1.        , 1.        , 0.9999999 , 1.        , 0.99999994,\n",
       "       0.99999994, 1.        , 1.        , 1.        , 1.        ,\n",
       "              nan, 1.        ,        nan, 1.        , 0.99999994,\n",
       "       1.0000001 , 1.        , 1.        , 1.        , 1.        ,\n",
       "       0.99999994, 0.99999994, 1.        , 1.        , 0.99999994,\n",
       "       1.        , 1.        , 1.        , 1.        , 1.        ,\n",
       "       0.99999994, 1.        , 0.99999994, 0.99999994, 1.        ,\n",
       "       0.99999994, 1.        , 0.9999999 , 1.        , 1.        ,\n",
       "       1.        , 1.        , 0.99999994, 0.99999994, 1.        ,\n",
       "       1.        , 0.99999994, 1.        , 1.        , 1.        ,\n",
       "       1.        , 1.        , 0.99999994, 1.        , 1.        ,\n",
       "       1.        , 0.99999994, 1.        , 1.        , 1.        ,\n",
       "       0.99999994, 0.99999994, 0.99999994, 0.9999999 , 1.        ,\n",
       "       1.        , 0.99999994, 1.        , 1.        , 1.        ,\n",
       "       1.        , 1.        , 0.99999994, 1.        , 1.        ,\n",
       "       0.99999994, 1.        , 1.        , 1.        , 1.        ,\n",
       "       1.        , 1.        , 1.        , 1.        , 1.        ,\n",
       "       1.        , 0.99999994, 1.        , 1.        , 1.        ,\n",
       "       1.        , 0.99999994, 1.        ,        nan, 0.99999994,\n",
       "       1.        , 1.        , 0.99999994, 0.99999994, 1.        ,\n",
       "       1.        , 1.        , 1.        , 1.        , 0.99999994,\n",
       "              nan, 1.        , 0.99999994, 1.        , 1.        ,\n",
       "       1.        , 1.        , 0.99999994, 1.        , 1.        ,\n",
       "              nan, 1.        , 1.        , 1.        , 1.        ],\n",
       "      dtype=float32)"
      ]
     },
     "execution_count": 25,
     "metadata": {},
     "output_type": "execute_result"
    }
   ],
   "source": [
    "n_docs = X_bow.shape[0]\n",
    "# print(n_docs)\n",
    "word_in_doc_counts = np.copy(X_bow)\n",
    "word_in_doc_counts[word_in_doc_counts > 0] = 1\n",
    "\n",
    "# print(word_in_doc_counts.sum(axis=0))\n",
    "\n",
    "idf = np.log(n_docs / (word_in_doc_counts.sum(axis=0) + 1))\n",
    "# print(idf)\n",
    "# print(idf.shape)\n",
    "# idfs = np.stack([idf] * n_docs)\n",
    "# idfs = \n",
    "\n",
    "tf = np.copy(X_bow)\n",
    "\n",
    "tf_idf = tf * idf[np.newaxis]\n",
    "norms = np.linalg.norm(tf_idf, axis=1)\n",
    "print(norms.shape)\n",
    "normalized_tfidf = tf_idf / norms[:, np.newaxis]\n",
    "np.linalg.norm(normalized_tfidf, axis=1)\n",
    "# print(tf_idf / np.linalg.norm(tf_idf, axis=1)] * vocab_size))\n",
    "# print(tf_idf)"
   ]
  },
  {
   "cell_type": "code",
   "execution_count": 26,
   "metadata": {},
   "outputs": [
    {
     "data": {
      "text/plain": [
       "array([3.32059822e+01, 1.81962051e+01, 1.04340630e+01, 1.63788071e+01,\n",
       "       9.78653717e+00, 4.47304001e+01, 4.58382416e+00, 7.52404737e+00,\n",
       "       1.06113977e+01, 1.48874693e+01, 1.81637993e+01, 2.53934250e+01,\n",
       "       3.08178158e+01, 3.25512009e+01, 2.36458988e+01, 2.58675461e+01,\n",
       "       9.73356533e+00, 3.63773575e+01, 1.30573864e+01, 1.27750673e+01,\n",
       "       1.31770086e+01, 8.51478195e+01, 1.07331772e+01, 0.00000000e+00,\n",
       "       7.53329563e+00, 0.00000000e+00, 2.21511860e+01, 1.12077837e+01,\n",
       "       1.17359858e+01, 1.37463007e+01, 1.79537392e+01, 8.31591225e+00,\n",
       "       1.23158007e+01, 2.91762257e+01, 1.78290138e+01, 0.00000000e+00,\n",
       "       1.73871078e+01, 0.00000000e+00, 1.11171303e+01, 1.58541746e+01,\n",
       "       6.83778839e+01, 1.37867870e+01, 8.91292667e+00, 5.04768944e+01,\n",
       "       9.46182251e+00, 9.26136112e+00, 1.06792698e+01, 2.59368973e+01,\n",
       "       0.00000000e+00, 1.65389843e+01, 4.98828468e+01, 4.35755119e+01,\n",
       "       6.27366447e+01, 4.61474323e+00, 0.00000000e+00, 5.80914307e+00,\n",
       "       3.19397469e+01, 2.83567238e+01, 6.53713531e+01, 2.49991341e+01,\n",
       "       6.57839680e+00, 1.48043833e+01, 1.34830872e+02, 1.28453178e+01,\n",
       "       1.30130358e+01, 5.17359447e+00, 1.70547600e+01, 8.03962517e+00,\n",
       "       1.10920963e+01, 1.17116022e+01, 1.55848389e+01, 2.98374844e+01,\n",
       "       2.74522800e+01, 2.47841740e+01, 1.01738615e+01, 1.05255489e+01,\n",
       "       8.21653938e+00, 9.09673405e+00, 2.72345090e+00, 2.28315449e+01,\n",
       "       0.00000000e+00, 3.18380966e+01, 0.00000000e+00, 6.77342939e+00,\n",
       "       2.40194778e+01, 1.12318201e+01, 2.02859974e+01, 9.04635544e+01,\n",
       "       3.14784164e+01, 8.20179462e+00, 2.24672832e+01, 9.04034042e+00,\n",
       "       1.78294773e+01, 4.31603775e+01, 1.25246897e+01, 1.60794353e+01,\n",
       "       1.14218092e+01, 0.00000000e+00, 4.82831383e+00, 1.15015612e+01,\n",
       "       2.40939960e+01, 3.71155319e+01, 1.54231491e+01, 7.86246252e+00,\n",
       "       1.17397366e+01, 1.87552834e+01, 9.70032310e+00, 1.31965170e+01,\n",
       "       8.15577221e+00, 4.55584669e+00, 1.94522495e+01, 1.56387644e+01,\n",
       "       8.88661385e+00, 5.16574402e+01, 5.18214130e+00, 2.19187412e+01,\n",
       "       1.08580990e+01, 1.98754978e+01, 2.16364632e+01, 7.08875751e+00,\n",
       "       1.49550085e+01, 4.34280586e+00, 1.43642244e+01, 5.52146101e+00,\n",
       "       2.09332867e+01, 1.17289667e+01, 1.07183313e+01, 2.89585609e+01,\n",
       "       2.31466560e+01, 2.37618103e+01, 6.21460819e+00, 3.42652855e+01,\n",
       "       1.15891094e+01, 7.74848509e+00, 1.20700083e+01, 6.76804781e+00,\n",
       "       1.85356846e+01, 1.71263657e+01, 3.68084946e+01, 1.92678509e+01,\n",
       "       1.69879723e+01, 6.61648512e-01, 6.54083204e+00, 4.11149330e+01,\n",
       "       3.61191845e+00, 3.71453590e+01, 2.86612511e+01, 3.51094513e+01,\n",
       "       7.44544077e+00, 1.03644171e+01, 8.04765511e+00, 5.18291359e+01,\n",
       "       3.48173523e+01, 1.03835211e+01, 8.35967541e+00, 4.93305855e+01,\n",
       "       1.21401043e+01, 1.36414671e+01, 1.93031693e+01, 3.02720394e+01,\n",
       "       1.78289433e+01, 1.10306149e+01, 5.64151382e+01, 8.89641094e+00,\n",
       "       1.35001335e+01, 1.12323093e+01, 1.83626900e+01, 9.91553247e-01,\n",
       "       9.07281876e+00, 1.10730381e+01, 2.10312958e+01, 2.30457840e+01,\n",
       "       2.10121574e+01, 3.82593384e+01, 1.09004796e+00, 6.49483643e+01,\n",
       "       4.20766182e+01, 4.08334808e+01, 0.00000000e+00, 7.02705288e+00,\n",
       "       1.96671162e+01, 1.15345879e+01, 2.88718452e+01, 1.28328972e+01,\n",
       "       1.30686922e+01, 2.38640594e+01, 0.00000000e+00, 6.73935223e+00,\n",
       "       6.98127460e+00, 1.54643612e+01, 4.42284870e+00, 4.18579903e+01,\n",
       "       1.86861362e+01, 1.91540718e+01, 9.26401711e+00, 3.19103947e+01,\n",
       "       1.89636135e+01, 0.00000000e+00, 1.15874043e+01, 1.82904148e+01,\n",
       "       1.43792982e+01, 6.47698355e+00, 1.21254950e+01, 4.42511797e+00,\n",
       "       1.55066700e+01, 1.79356632e+01, 1.09401674e+01, 7.03058815e+00,\n",
       "       2.35177326e+01, 1.48650646e+00, 1.52175064e+01, 5.13971329e+01,\n",
       "       4.12976570e+01, 1.94697838e+01, 5.76179657e+01, 2.59632759e+01,\n",
       "       8.44048405e+00, 1.11805363e+01, 5.31416750e+00, 1.16359329e+01,\n",
       "       8.84595680e+00, 2.44323997e+01, 3.67835350e+01, 1.17365408e+01,\n",
       "       2.63934593e+01, 9.55958710e+01, 1.10198774e+01, 1.37450256e+01,\n",
       "       4.68861628e+00, 6.97167301e+00, 1.33596888e+01, 6.54534292e+00,\n",
       "       1.14409742e+01, 1.18351727e+01, 2.16518879e+01, 9.97730160e+00,\n",
       "       9.15875340e+00, 1.38727226e+01, 1.36876841e+01, 4.03784037e+00,\n",
       "       3.50115280e+01, 2.09556656e+01, 4.70829487e+00, 6.21460819e+00,\n",
       "       1.82654934e+01, 1.11259661e+01, 9.81430893e+01, 1.17318888e+01,\n",
       "       9.88586140e+00, 1.74157257e+01, 4.50485897e+00, 8.93223763e+00,\n",
       "       1.89434204e+01, 2.06078148e+01, 1.26356134e+01, 1.24332914e+01,\n",
       "       6.68240023e+00, 7.43784475e+00, 3.34820328e+01, 1.91762486e+01,\n",
       "       1.83539410e+01, 1.67011108e+01, 2.65816956e+01, 1.36983624e+01,\n",
       "       2.66674633e+01, 1.18158979e+01, 1.52575655e+01, 3.51273613e+01,\n",
       "       2.29211540e+01, 1.09116774e+01, 1.56921778e+01, 3.45417671e+01,\n",
       "       4.13948784e+01, 1.72094269e+01, 4.53678017e+01, 4.85010414e+01,\n",
       "       1.79101295e+01, 5.69586639e+01, 1.32925949e+01, 1.02447556e+02,\n",
       "       4.87832985e+01, 4.82124329e+00, 7.46464682e+00, 1.43721457e+01,\n",
       "       1.92769375e+01, 1.07153397e+01, 2.01180248e+01, 1.10930901e+01,\n",
       "       7.79661655e+00, 1.48521280e+01, 7.53740883e+00, 1.28238878e+01,\n",
       "       9.02851963e+00, 2.17838402e+01, 4.02660446e+01, 2.33242702e+01,\n",
       "       5.15572433e+01, 2.71444225e+01, 1.71186638e+01, 0.00000000e+00,\n",
       "       0.00000000e+00, 1.01616087e+01, 1.10319815e+01, 8.25476933e+00,\n",
       "       5.23142891e+01, 1.09518219e+02, 7.38908625e+00, 1.76448135e+01,\n",
       "       1.28462019e+01, 2.17048283e+01, 1.26294880e+01, 1.62594433e+01,\n",
       "       2.39010296e+01, 5.11599588e+00, 7.63135290e+00, 2.64318504e+01,\n",
       "       2.22021217e+01, 4.85150337e+01, 2.28567963e+01, 1.71057796e+01,\n",
       "       3.37593498e+01, 1.97881813e+01, 6.96337318e+00, 4.99258766e+01,\n",
       "       1.67847881e+01, 1.44202538e+01, 2.32086868e+01, 0.00000000e+00,\n",
       "       6.37949066e+01, 1.17503868e+02, 1.42391834e+01, 9.33597851e+00,\n",
       "       9.04488850e+00, 2.10988846e+01, 1.25257635e+01, 0.00000000e+00,\n",
       "       0.00000000e+00, 1.35135603e+01, 9.65874195e+00, 1.78063774e+01,\n",
       "       1.04419289e+01, 2.33941402e+01, 7.79749966e+00, 1.36190748e+01,\n",
       "       3.80479288e+00, 6.67284441e+00, 1.07346935e+01, 1.34310694e+01,\n",
       "       8.72065353e+00, 1.23282976e+01, 1.18723688e+01, 1.05055323e+01,\n",
       "       1.76665993e+01, 6.37726364e+01, 7.52869511e+00, 4.35913429e+01,\n",
       "       6.21460819e+00, 9.40430546e+00, 1.35907860e+01, 2.13956871e+01,\n",
       "       5.44616270e+00, 3.13626652e+01, 1.01863928e+01, 2.21822338e+01,\n",
       "       9.37243557e+00, 0.00000000e+00, 9.66340065e+00, 1.05139618e+01,\n",
       "       1.91652241e+01, 0.00000000e+00, 8.07930279e+00, 9.45419788e-01,\n",
       "       1.09815693e+01, 3.70568771e+01, 1.43569880e+01, 6.80744839e+00,\n",
       "       3.50253105e+01, 1.21723785e+01, 1.04697638e+01, 2.44085903e+01,\n",
       "       0.00000000e+00, 0.00000000e+00, 8.19384480e+00, 7.77976036e+00,\n",
       "       5.35257339e+01, 6.28215981e+00, 5.39306335e+01, 2.79286499e+01,\n",
       "       7.78926373e+00, 2.95916977e+01, 1.41456566e+01, 1.61114616e+01,\n",
       "       3.51091695e+00, 2.90278225e+01, 4.57960892e+01, 1.65019894e+01,\n",
       "       1.30939188e+01, 1.17551384e+01, 1.19689684e+01, 1.58707066e+01,\n",
       "       0.00000000e+00, 2.95093994e+01, 2.73886147e+01, 8.91688347e+00,\n",
       "       4.41785431e+00, 4.56060677e+01, 9.15952969e+00, 1.32387753e+01,\n",
       "       8.83199501e+00, 1.38822317e+01, 1.08325548e+01, 4.98221207e+00,\n",
       "       0.00000000e+00, 9.76379395e+00, 9.96433544e+00, 2.38650208e+01,\n",
       "       8.73127842e+00, 1.04708084e+02, 3.24610100e+01, 1.22444687e+01,\n",
       "       6.71216679e+00, 2.19704342e+01, 2.83407402e+01, 9.77463150e+01,\n",
       "       3.71943092e+01, 1.55429630e+01, 8.05901337e+00, 2.80375481e+01,\n",
       "       4.82148981e+00, 1.16418676e+01, 5.06886435e+00, 1.84306469e+01,\n",
       "       2.01844673e+01, 8.98295212e+00, 5.65254364e+01, 3.33303070e+02,\n",
       "       3.11565742e+01, 5.44533062e+00, 8.35882092e+00, 1.26288853e+01,\n",
       "       1.99466057e+01, 2.09366627e+01, 1.46382265e+01, 1.68382416e+01,\n",
       "       0.00000000e+00, 7.77997255e+00, 8.88376713e+00, 1.04092045e+01,\n",
       "       6.70706940e+00, 1.17435036e+01, 7.42774153e+00, 1.49095201e+01,\n",
       "       2.81489201e+01, 8.98329067e+00, 5.09297676e+01, 4.87961435e+00,\n",
       "       4.89373589e+01, 1.75251179e+01, 7.00850143e+01, 4.15318985e+01,\n",
       "       4.37673912e+01, 6.49992180e+00, 0.00000000e+00, 1.01613245e+01,\n",
       "       1.48578434e+01, 6.10912943e+00, 3.67345200e+01, 0.00000000e+00,\n",
       "       7.04915762e+00, 5.84087944e+00, 3.47246284e+01, 2.13936806e+01,\n",
       "       1.37690058e+01, 1.61179218e+01, 2.62568874e+01, 1.18692665e+01,\n",
       "       1.17370768e+01, 7.30758667e+00, 1.18521395e+01, 7.25779819e+00,\n",
       "       3.15763111e+01, 4.71593952e+00, 2.08025017e+01, 3.39344254e+01,\n",
       "       4.34238472e+01, 8.86579895e+00, 7.36381960e+00, 3.68440857e+01,\n",
       "       7.73468447e+00, 8.56741714e+01, 9.86894226e+00, 8.38375092e+00,\n",
       "       4.84600716e+01, 2.28044167e+01, 3.08313255e+01, 7.47757864e+00,\n",
       "       3.34282761e+01, 2.29103870e+01, 4.04495926e+01, 2.51796532e+01,\n",
       "       1.16886292e+01, 1.19381113e+01, 3.25870667e+01, 8.31311512e+00,\n",
       "       1.08127613e+01, 6.21460819e+00, 3.48644753e+01, 9.71585655e+00,\n",
       "       1.56923933e+01, 4.81630821e+01, 1.00144405e+01, 1.48214998e+01,\n",
       "       4.73751640e+01, 1.93879070e+01, 8.95510674e+00, 7.70022964e+00,\n",
       "       7.97484636e+00, 1.64352856e+01, 1.41201143e+01, 7.98625565e+00,\n",
       "       5.58845854e+00, 4.96432447e+00, 1.64113331e+01, 6.36505890e+00,\n",
       "       1.75359077e+01, 1.18611536e+01, 1.12922554e+01, 1.55664234e+01,\n",
       "       1.80761890e+01, 1.17498970e+01, 1.08570499e+01, 7.15346384e+00,\n",
       "       9.48182106e+00, 3.30554152e+00, 1.63936214e+01, 7.85212040e+00,\n",
       "       1.10061464e+01, 2.22093887e+01, 1.59149961e+01, 3.44692993e+01,\n",
       "       1.35368319e+01, 1.09194832e+01, 8.67723274e+00, 2.66460533e+01,\n",
       "       3.24682083e+01, 4.54612589e+00, 2.54322968e+01, 1.67299023e+01,\n",
       "       1.02408276e+01, 2.12406120e+01, 7.32400942e+00, 6.59713840e+00,\n",
       "       1.54912300e+01, 1.77912846e+01, 1.51905012e+01, 1.29236317e+01,\n",
       "       1.16347523e+01, 1.04270210e+01, 1.95065994e+01, 1.21511400e+00,\n",
       "       1.12298088e+01, 5.90955067e+00, 2.11282825e+01, 1.66922417e+01,\n",
       "       2.51358871e+01, 6.35115814e+01, 1.43703814e+01, 7.12783670e+00,\n",
       "       1.90407753e+01, 0.00000000e+00, 9.80120277e+00, 0.00000000e+00,\n",
       "       2.55347633e+01, 3.56713219e+01, 1.37398205e+01, 1.97982101e+01,\n",
       "       4.57441864e+02, 1.11031523e+01, 2.16447878e+00, 0.00000000e+00,\n",
       "       1.30003214e+01, 6.93291330e+00, 2.15106239e+01, 2.45066853e+01,\n",
       "       1.37668743e+01, 1.68745308e+01, 1.55699463e+01, 1.72001305e+01,\n",
       "       6.54968691e+00, 1.45167284e+01, 1.33579912e+01, 1.64651852e+01,\n",
       "       3.14956379e+01, 2.92328434e+01, 2.81941414e+01, 1.22265882e+01,\n",
       "       1.90421429e+01, 0.00000000e+00, 3.70240951e+00, 1.40734844e+01,\n",
       "       2.32964096e+01, 3.01441364e+01, 3.47783203e+01, 1.29612093e+01,\n",
       "       1.96871986e+01, 1.06431541e+01, 5.58412018e+01, 2.52696457e+01,\n",
       "       1.66319626e+02, 3.47779045e+01, 2.03668194e+01, 1.58249063e+01,\n",
       "       4.64260721e+00, 8.52889061e+00, 1.73218422e+01, 1.39412012e+01,\n",
       "       3.20715942e+01, 1.53704233e+01, 1.43543081e+01, 8.78878307e+00,\n",
       "       0.00000000e+00, 2.25383625e+01, 1.08793421e+01, 5.54144554e+01,\n",
       "       2.32807446e+01, 1.56781349e+01, 8.07593632e+00, 3.67383614e+01,\n",
       "       2.62063446e+01, 2.01430836e+01, 3.80316429e+01, 2.51058407e+01,\n",
       "       6.11030006e+00, 3.38726349e+01, 1.30227976e+01, 2.07736263e+01,\n",
       "       8.37298298e+00, 2.96075974e+01, 2.09113941e+01, 7.04360676e+00,\n",
       "       1.05150757e+01, 9.59495544e+00, 3.02406254e+01, 1.78961682e+00,\n",
       "       1.07153397e+01, 1.87291546e+01, 8.96913815e+00, 1.85715446e+01,\n",
       "       2.09847889e+01, 2.50102425e+01, 0.00000000e+00, 0.00000000e+00,\n",
       "       4.01458168e+01, 3.19936638e+01, 6.50057173e+00, 2.59450531e+01,\n",
       "       1.09126711e+01, 3.06330376e+01, 1.18095245e+01, 1.24739885e+01,\n",
       "       1.01837364e+02, 3.79613838e+01, 2.08376408e+01, 1.28257656e+01,\n",
       "       0.00000000e+00, 2.02012634e+01, 8.26839447e+00, 1.49089346e+01,\n",
       "       1.44729300e+01, 1.38654804e+01, 0.00000000e+00, 1.15841656e+01,\n",
       "       2.04030819e+01, 2.27146835e+01, 2.95421371e+01, 2.72699718e+01,\n",
       "       2.05925045e+01, 8.31130600e+00, 1.41417809e+01, 0.00000000e+00,\n",
       "       1.26003151e+01, 8.07051620e+01, 2.83471622e+01, 2.27207012e+01,\n",
       "       4.64220314e+01, 3.18459320e+01, 6.04759216e+00, 9.84350872e+00,\n",
       "       2.36462078e+01, 4.10970879e+01, 1.64372940e+01, 5.11599588e+00,\n",
       "       9.30872822e+00, 2.77146168e+01, 4.62370834e+01, 1.48084221e+01,\n",
       "       2.45062675e+01, 3.13178062e+00, 8.14782619e+00, 1.14999046e+01,\n",
       "       2.61057301e+01, 4.72405510e+01, 0.00000000e+00, 9.41323471e+00,\n",
       "       0.00000000e+00, 7.40414476e+00, 1.56618977e+01, 1.36728573e+01,\n",
       "       4.02336884e+02, 1.46640368e+01, 1.50137348e+01, 6.88609982e+00,\n",
       "       2.10653870e+02, 2.65197906e+01, 8.11227608e+00, 1.29657230e+01,\n",
       "       1.34928074e+01, 1.46344833e+01, 1.78022861e+01, 1.19222651e+01,\n",
       "       3.14009261e+00, 2.07573013e+01, 3.81762505e+01, 4.39160690e+01,\n",
       "       3.07967210e+00, 2.50849991e+01, 2.64514122e+01, 2.10951347e+01,\n",
       "       2.79688144e+00, 2.98942528e+01, 1.29855680e+01, 1.28152218e+01,\n",
       "       1.62938354e+02, 1.62203083e+01, 1.52789869e+01, 1.20676756e+01,\n",
       "       7.86246252e+00, 3.96331644e+00, 3.51667786e+01, 1.94042149e+01,\n",
       "       9.48327732e+00, 1.08896961e+01, 2.80413609e+01, 2.10472393e+01,\n",
       "       1.55153646e+01, 2.71994057e+01, 2.38306026e+01, 1.17228365e+01,\n",
       "       2.77099113e+01, 1.00204468e+01, 1.00615883e+01, 2.09940796e+01,\n",
       "       8.95274162e+00, 9.06800461e+00, 2.65258350e+01, 1.74575119e+01,\n",
       "       1.45183640e+01, 1.52944736e+01, 4.40598793e+01, 8.71504021e+00,\n",
       "       2.67498150e+01, 1.42773457e+01, 2.22312813e+01, 7.01464081e+00,\n",
       "       7.22856045e+00, 1.46640368e+01, 7.54296780e+00, 3.20810013e+01,\n",
       "       7.19972038e+00, 2.33796806e+01, 1.33765192e+01, 1.43293085e+01,\n",
       "       1.52004519e+01, 1.03963270e+01, 1.23068056e+01, 1.14829969e+01,\n",
       "       4.34577866e+01, 8.28153133e+00, 1.32405329e+01, 2.45694885e+01,\n",
       "       4.96014099e+01, 2.61612358e+01, 1.08751040e+01, 1.92922440e+01,\n",
       "       7.03235531e+00, 8.62992573e+00, 1.57388315e+01, 1.12459803e+01,\n",
       "       0.00000000e+00, 0.00000000e+00, 7.18364334e+00, 1.14476156e+01,\n",
       "       5.04597044e+00, 1.54424105e+01, 8.15151596e+00, 1.95618343e+01,\n",
       "       1.21729164e+01, 2.32977200e+01, 1.15403309e+01, 2.34943295e+01,\n",
       "       3.14942589e+01, 6.73667240e+00, 2.73706951e+01, 9.79114342e+00,\n",
       "       1.95814877e+01, 4.61809998e+01, 3.17817211e+01, 3.19299068e+01,\n",
       "       1.01781521e+01, 2.74612026e+01, 5.11576080e+01, 1.30163822e+01,\n",
       "       1.94946117e+01, 1.76506081e+01, 5.19412804e+01, 7.16827726e+00,\n",
       "       1.42619047e+01, 1.59780235e+01, 8.83594704e+00, 8.91734505e+00,\n",
       "       7.91598845e+00, 9.84370327e+00, 6.00092697e+00, 2.07554207e+01,\n",
       "       2.32476273e+01, 4.32741928e+01, 2.51389599e+01, 2.43502283e+00,\n",
       "       1.99740391e+01, 9.91553247e-01, 4.17343109e+02, 1.55041153e+02,\n",
       "       1.73987122e+01, 2.63242435e+01, 4.69991150e+01, 1.15620918e+01,\n",
       "       1.83481922e+01, 1.03234901e+01, 7.16405725e+00, 2.74034824e+01,\n",
       "       1.20265188e+01, 1.29473858e+01, 2.14224854e+01, 9.46091366e+00,\n",
       "       3.48183975e+01, 9.79450130e+00, 1.13368401e+02, 1.68989658e+01,\n",
       "       4.31899338e+01, 5.17310753e+01, 9.25539303e+00, 4.17402496e+01,\n",
       "       2.67479687e+01, 9.79071617e+00, 2.00105114e+01, 6.78826218e+01,\n",
       "       2.31166935e+01, 3.96331644e+00, 2.33518333e+01, 3.81416969e+01,\n",
       "       2.97755146e+01, 3.55822830e+01, 5.22843742e+00, 8.68360329e+00,\n",
       "       1.04355383e+01, 3.39123611e+01, 3.36866417e+01, 6.34016562e+00,\n",
       "       1.31199207e+01, 3.16328373e+01, 0.00000000e+00, 2.90294914e+01,\n",
       "       2.74253464e+01, 8.97138023e+00, 2.28162861e+01, 9.43351173e+00,\n",
       "       8.18276691e+00, 2.65913773e+00, 1.45110807e+01, 1.72360287e+01,\n",
       "       1.74787941e+01, 3.00116706e+00, 3.22922630e+01, 1.71550674e+01,\n",
       "       3.13865995e+00, 9.63207531e+00, 1.98384953e+01, 2.15382214e+01,\n",
       "       2.44437485e+01, 1.83315277e+01, 0.00000000e+00, 1.66811810e+01,\n",
       "       0.00000000e+00, 1.51873913e+01, 1.06412954e+01, 1.15847359e+01,\n",
       "       1.58139095e+01, 9.83394814e+00, 7.85610914e+00, 3.19418335e+00,\n",
       "       1.81377182e+01, 2.54423523e+01, 8.75074387e+00, 1.80770550e+01,\n",
       "       6.74744225e+00, 2.51835232e+01, 1.57348967e+01, 4.95939875e+00,\n",
       "       2.42818642e+01, 1.11867123e+01, 2.82008896e+01, 1.27330580e+01,\n",
       "       1.07153397e+01, 1.45041885e+01, 2.83456116e+01, 3.52707939e+01,\n",
       "       7.37230206e+00, 8.57498264e+00, 1.47454691e+01, 9.37668514e+00,\n",
       "       1.55344887e+01, 2.87202549e+01, 1.92709694e+01, 1.23955223e+02,\n",
       "       8.68729877e+00, 1.25842705e+01, 1.58825645e+01, 4.14937172e+01,\n",
       "       4.87249527e+01, 2.47754002e+01, 2.31263542e+00, 1.11010523e+01,\n",
       "       1.86213627e+01, 8.56952858e+00, 3.00170975e+01, 1.23901920e+01,\n",
       "       3.13855863e+00, 2.55226612e+01, 4.23245287e+00, 1.48229666e+01,\n",
       "       7.19947958e+00, 7.65626621e+00, 1.68593903e+01, 3.25111122e+01,\n",
       "       2.08449898e+01, 3.02867508e+01, 1.87117882e+01, 1.91198997e+01,\n",
       "       1.97148705e+01, 1.37646856e+01, 3.11522503e+01, 3.90196266e+01,\n",
       "       7.16099262e+00, 2.09819279e+01, 1.84149780e+01, 2.26909084e+01,\n",
       "       2.04356041e+01, 1.28678436e+01, 1.38855398e+00, 1.41857100e+01,\n",
       "       7.57956171e+00, 8.55666161e-01, 2.87103214e+01, 1.44804325e+01,\n",
       "       1.90716114e+01, 2.14609070e+01, 2.39263062e+03, 1.33891897e+01,\n",
       "       4.82831383e+00, 1.07025366e+01, 6.08174419e+00, 8.25460815e+00,\n",
       "       5.30246544e+01, 0.00000000e+00, 1.07153397e+01, 3.49740005e+00,\n",
       "       2.56633377e+01, 2.21850891e+01, 1.05923424e+01, 1.75951958e+01,\n",
       "       5.75238371e+00, 2.91450500e+01, 1.70634918e+01, 7.63363171e+00,\n",
       "       1.26292667e+01, 0.00000000e+00, 1.47107639e+01, 1.26855078e+01,\n",
       "       1.19935646e+01, 2.62916679e+01, 3.65664387e+00, 1.14274206e+01,\n",
       "       4.66294975e+01, 1.38518639e+01, 1.53763390e+01, 0.00000000e+00,\n",
       "       3.42990112e+01, 7.64029026e+00, 7.99940681e+00, 3.57011147e+01],\n",
       "      dtype=float32)"
      ]
     },
     "execution_count": 26,
     "metadata": {},
     "output_type": "execute_result"
    }
   ],
   "source": [
    "norms"
   ]
  },
  {
   "cell_type": "code",
   "execution_count": 27,
   "metadata": {},
   "outputs": [],
   "source": [
    "np.seterr(divide='ignore', invalid='ignore')\n",
    "\n",
    "def bow_to_tfidf(X_bow, normalize=False):\n",
    "    alpha = 1.0\n",
    "    assert X_bow.shape[1] == vocab_size\n",
    "    n_docs = X_bow.shape[0]\n",
    "    \n",
    "    word_in_doc_counts = np.copy(X_bow)\n",
    "    word_in_doc_counts[word_in_doc_counts > 0] = 1\n",
    "    idf = np.log(n_docs / (word_in_doc_counts.sum(axis=0) + alpha))\n",
    "    idfs = np.stack([idf] * n_docs)\n",
    "\n",
    "    tf = np.copy(X_bow)\n",
    "\n",
    "    tf_idf = tf * idfs\n",
    "\n",
    "    if normalize:\n",
    "        norms = np.linalg.norm(tf_idf, axis=1)\n",
    "        tf_idf = tf_idf / norms[:, np.newaxis]\n",
    "        tf_idf = np.nan_to_num(tf_idf)\n",
    "\n",
    "    return tf_idf\n",
    "\n",
    "\n",
    "X_tfidf = bow_to_tfidf(X_bow, normalize=True)"
   ]
  },
  {
   "cell_type": "code",
   "execution_count": 28,
   "metadata": {},
   "outputs": [],
   "source": [
    "X_train_tfidf, X_test_tfidf, y_train, y_test = train_test_split(X_tfidf, target, test_size=0.5, random_state=42)"
   ]
  },
  {
   "cell_type": "code",
   "execution_count": 29,
   "metadata": {},
   "outputs": [],
   "source": [
    "tfidf_model = LogisticRegression(C=0.2, random_state=1).fit(X_train_tfidf, y_train)"
   ]
  },
  {
   "cell_type": "code",
   "execution_count": 30,
   "metadata": {},
   "outputs": [
    {
     "name": "stdout",
     "output_type": "stream",
     "text": [
      "Model accuracy: 0.772\n"
     ]
    },
    {
     "data": {
      "image/png": "[encoded data removed]",
      "text/plain": [
       "<Figure size 640x480 with 1 Axes>"
      ]
     },
     "metadata": {},
     "output_type": "display_data"
    }
   ],
   "source": [
    "from sklearn.metrics import roc_auc_score, roc_curve\n",
    "\n",
    "for name, X, y, model in [\n",
    "    ('train', X_train_tfidf, y_train, tfidf_model),\n",
    "    ('test ', X_test_tfidf, y_test, tfidf_model)\n",
    "]:\n",
    "    proba = model.predict_proba(X)[:, 1]\n",
    "    auc = roc_auc_score(y, proba)\n",
    "    plt.plot(*roc_curve(y, proba)[:2], label='%s AUC=%.4f' % (name, auc))\n",
    "\n",
    "plt.plot([0, 1], [0, 1], '--', color='black',)\n",
    "plt.legend(fontsize='large')\n",
    "plt.grid()\n",
    "\n",
    "test_accuracy = np.mean(bow_model.predict(X_test_bow) == y_test)\n",
    "print(f\"Model accuracy: {test_accuracy:.3f}\")"
   ]
  },
  {
   "cell_type": "markdown",
   "metadata": {},
   "source": [
    "### Solving it better: word vectors\n",
    "\n",
    "Let's try another approach: instead of counting per-word frequencies, we shall map all words to pre-trained word vectors and average over them to get text features.\n",
    "\n",
    "This should give us two key advantages: (1) we now have 10^2 features instead of 10^4 and (2) our model can generalize to word that are not in training dataset.\n",
    "\n",
    "We begin with a standard approach with pre-trained word vectors. However, you may also try\n",
    "* training embeddings from scratch on relevant (unlabeled) data\n",
    "* multiplying word vectors by inverse word frequency in dataset (like tf-idf).\n",
    "* concatenating several embeddings\n",
    "    * call `gensim.downloader.info()['models'].keys()` to get a list of available models\n",
    "* clusterizing words by their word-vectors and try bag of cluster_ids\n",
    "\n",
    "__Note:__ loading pre-trained model may take a while. It's a perfect opportunity to refill your cup of tea/coffee and grab some extra cookies. Or binge-watch some tv series if you're slow on internet connection"
   ]
  },
  {
   "cell_type": "code",
   "execution_count": 31,
   "metadata": {},
   "outputs": [],
   "source": [
    "import gensim.downloader \n",
    "embeddings = gensim.downloader.load(\"fasttext-wiki-news-subwords-300\")\n",
    "\n",
    "# If you're low on RAM or download speed, use \"glove-wiki-gigaword-100\" instead. Ignore all further asserts."
   ]
  },
  {
   "cell_type": "code",
   "execution_count": 54,
   "metadata": {},
   "outputs": [
    {
     "name": "stdout",
     "output_type": "stream",
     "text": [
      "(300,)\n",
      "(300,)\n"
     ]
    },
    {
     "data": {
      "text/plain": [
       "False"
      ]
     },
     "execution_count": 54,
     "metadata": {},
     "output_type": "execute_result"
    }
   ],
   "source": [
    "comment = \"who cares anymore . they attack with impunity .\"\n",
    "embedding_dim = embeddings.vectors.shape[1]\n",
    "features = np.zeros([embedding_dim], dtype='float32')\n",
    "print(features.shape)\n",
    "\n",
    "print(np.stack([embeddings[word] for word in comment.split() if word in embeddings]).sum(axis=0).shape)\n",
    "# embeddings[\"who\"]\n",
    "\"asdfasdfasd\" in embeddings"
   ]
  },
  {
   "cell_type": "code",
   "execution_count": 55,
   "metadata": {},
   "outputs": [],
   "source": [
    "def vectorize_sum(comment):\n",
    "    \"\"\"\n",
    "    implement a function that converts preprocessed comment to a sum of token vectors\n",
    "    \"\"\"\n",
    "    embedding_dim = embeddings.vectors.shape[1]\n",
    "    # features = np.zeros([embedding_dim], dtype='float32')\n",
    "\n",
    "    words = comment.split()\n",
    "    features = np.stack([embeddings[w] for w in words if w in embeddings]).sum(axis=0)\n",
    "    \n",
    "    return features\n",
    "\n",
    "assert np.allclose(\n",
    "    vectorize_sum(\"who cares anymore . they attack with impunity .\")[::70],\n",
    "    np.array([ 0.0108616 ,  0.0261663 ,  0.13855131, -0.18510573, -0.46380025])\n",
    ")"
   ]
  },
  {
   "cell_type": "code",
   "execution_count": 56,
   "metadata": {},
   "outputs": [],
   "source": [
    "X_train_wv = np.stack([vectorize_sum(text) for text in texts_train])\n",
    "X_test_wv = np.stack([vectorize_sum(text) for text in texts_test])"
   ]
  },
  {
   "cell_type": "code",
   "execution_count": 57,
   "metadata": {},
   "outputs": [
    {
     "name": "stderr",
     "output_type": "stream",
     "text": [
      "/home/taot/opt/miniconda3/envs/nlp_course/lib/python3.11/site-packages/sklearn/linear_model/_logistic.py:460: ConvergenceWarning: lbfgs failed to converge (status=1):\n",
      "STOP: TOTAL NO. of ITERATIONS REACHED LIMIT.\n",
      "\n",
      "Increase the number of iterations (max_iter) or scale the data as shown in:\n",
      "    https://scikit-learn.org/stable/modules/preprocessing.html\n",
      "Please also refer to the documentation for alternative solver options:\n",
      "    https://scikit-learn.org/stable/modules/linear_model.html#logistic-regression\n",
      "  n_iter_i = _check_optimize_result(\n"
     ]
    },
    {
     "data": {
      "image/png": "[encoded data removed]",
      "text/plain": [
       "<Figure size 640x480 with 1 Axes>"
      ]
     },
     "metadata": {},
     "output_type": "display_data"
    }
   ],
   "source": [
    "wv_model = LogisticRegression().fit(X_train_wv, y_train)\n",
    "\n",
    "for name, X, y, model in [\n",
    "    ('bow train', X_train_bow, y_train, bow_model),\n",
    "    ('bow test ', X_test_bow, y_test, bow_model),\n",
    "    ('vec train', X_train_wv, y_train, wv_model),\n",
    "    ('vec test ', X_test_wv, y_test, wv_model)\n",
    "]:\n",
    "    proba = model.predict_proba(X)[:, 1]\n",
    "    auc = roc_auc_score(y, proba)\n",
    "    plt.plot(*roc_curve(y, proba)[:2], label='%s AUC=%.4f' % (name, auc))\n",
    "\n",
    "plt.plot([0, 1], [0, 1], '--', color='black',)\n",
    "plt.legend(fontsize='large')\n",
    "plt.grid()\n",
    "\n",
    "assert roc_auc_score(y_test, wv_model.predict_proba(X_test_wv)[:, 1]) > 0.92, \"something's wrong with your features\""
   ]
  },
  {
   "cell_type": "markdown",
   "metadata": {},
   "source": [
    "If everything went right, you've just managed to reduce misclassification rate by a factor of two.\n",
    "This trick is very useful when you're dealing with small datasets. However, if you have hundreds of thousands of samples, there's a whole different range of methods for that. We'll get there in the second part."
   ]
  }
 ],
 "metadata": {
  "kernelspec": {
   "display_name": "Python 3 (ipykernel)",
   "language": "python",
   "name": "python3"
  },
  "language_info": {
   "codemirror_mode": {
    "name": "ipython",
    "version": 3
   },
   "file_extension": ".py",
   "mimetype": "text/x-python",
   "name": "python",
   "nbconvert_exporter": "python",
   "pygments_lexer": "ipython3",
   "version": "3.11.7"
  }
 },
 "nbformat": 4,
 "nbformat_minor": 4
}
